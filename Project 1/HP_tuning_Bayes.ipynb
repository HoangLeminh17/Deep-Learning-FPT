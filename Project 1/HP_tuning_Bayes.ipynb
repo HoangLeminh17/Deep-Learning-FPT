{
 "cells": [
  {
   "cell_type": "code",
   "execution_count": 2,
   "id": "1678c2ca-5365-4aff-b2f2-e698697737e4",
   "metadata": {},
   "outputs": [],
   "source": [
    "from tensorflow.keras import datasets\n",
    "import numpy as np"
   ]
  },
  {
   "cell_type": "code",
   "execution_count": 3,
   "id": "866353d8-44f6-4287-878d-d4e40a722b37",
   "metadata": {},
   "outputs": [],
   "source": [
    "(X_train, y_train), (X_test, y_test) = datasets.fashion_mnist.load_data() #Load the fashion MNIST dataset"
   ]
  },
  {
   "cell_type": "code",
   "execution_count": 4,
   "id": "5d1319a0-0684-4862-8630-f84fd72bd4a9",
   "metadata": {},
   "outputs": [
    {
     "data": {
      "text/plain": [
       "(60000, 28, 28)"
      ]
     },
     "execution_count": 4,
     "metadata": {},
     "output_type": "execute_result"
    }
   ],
   "source": [
    "X_train.shape #60k images, 28x28 grayscale image"
   ]
  },
  {
   "cell_type": "code",
   "execution_count": 5,
   "id": "d6aa2b2c-372b-4ffc-a3c1-c84bd8295d96",
   "metadata": {},
   "outputs": [],
   "source": [
    "#Rescale the values within [0,1]\n",
    "X_train_rescale = X_train.astype('float32')/255.0\n",
    "X_test_rescale = X_test.astype('float32')/255.0"
   ]
  },
  {
   "cell_type": "code",
   "execution_count": 6,
   "id": "165d1cdf-1706-4cba-b67b-31753e34f5dd",
   "metadata": {},
   "outputs": [
    {
     "data": {
      "text/plain": [
       "(60000, 28, 28)"
      ]
     },
     "execution_count": 6,
     "metadata": {},
     "output_type": "execute_result"
    }
   ],
   "source": [
    "X_train_rescale.shape"
   ]
  },
  {
   "cell_type": "code",
   "execution_count": 7,
   "id": "75adc939-f721-49f7-95e7-5acab6cf380a",
   "metadata": {},
   "outputs": [
    {
     "data": {
      "text/plain": [
       "(60000,)"
      ]
     },
     "execution_count": 7,
     "metadata": {},
     "output_type": "execute_result"
    }
   ],
   "source": [
    "y_train.shape #60k labels"
   ]
  },
  {
   "cell_type": "code",
   "execution_count": 8,
   "id": "54f72307-a81e-4d15-aac1-994b83ed38bc",
   "metadata": {},
   "outputs": [
    {
     "data": {
      "text/plain": [
       "(array([0, 1, 2, 3, 4, 5, 6, 7, 8, 9], dtype=uint8),\n",
       " array([6000, 6000, 6000, 6000, 6000, 6000, 6000, 6000, 6000, 6000],\n",
       "       dtype=int64))"
      ]
     },
     "execution_count": 8,
     "metadata": {},
     "output_type": "execute_result"
    }
   ],
   "source": [
    "np.unique(y_train, return_counts=True) #10 unique labels"
   ]
  },
  {
   "cell_type": "code",
   "execution_count": 9,
   "id": "95140251-643d-4b89-9183-31604c964826",
   "metadata": {},
   "outputs": [],
   "source": [
    "import matplotlib.pyplot as plt"
   ]
  },
  {
   "cell_type": "code",
   "execution_count": 10,
   "id": "d6ac5efa-75f4-46a8-a153-364bada7a3b6",
   "metadata": {},
   "outputs": [
    {
     "data": {
      "text/plain": [
       "<matplotlib.image.AxesImage at 0x2360aa3f860>"
      ]
     },
     "execution_count": 10,
     "metadata": {},
     "output_type": "execute_result"
    },
    {
     "data": {
      "image/png": "[encoded data removed]",
      "text/plain": [
       "<Figure size 640x480 with 1 Axes>"
      ]
     },
     "metadata": {},
     "output_type": "display_data"
    }
   ],
   "source": [
    "plt.imshow(X_train[0], cmap = 'gray')"
   ]
  },
  {
   "cell_type": "code",
   "execution_count": 11,
   "id": "a703b0a6-20d4-4c3c-9767-a839b00d43fe",
   "metadata": {},
   "outputs": [],
   "source": [
    "from tensorflow.keras.utils import to_categorical"
   ]
  },
  {
   "cell_type": "code",
   "execution_count": 12,
   "id": "d10fe157-c33c-4882-9f12-7f2d58da8ed3",
   "metadata": {},
   "outputs": [],
   "source": [
    "#One hot encoding\n",
    "y_train_ohe = to_categorical(y_train)\n",
    "y_test_ohe = to_categorical(y_test)"
   ]
  },
  {
   "cell_type": "code",
   "execution_count": 13,
   "id": "789417cf-b3e8-4ac3-b647-941faeea1f6d",
   "metadata": {},
   "outputs": [
    {
     "data": {
      "text/plain": [
       "(60000, 10)"
      ]
     },
     "execution_count": 13,
     "metadata": {},
     "output_type": "execute_result"
    }
   ],
   "source": [
    "y_train_ohe.shape"
   ]
  },
  {
   "cell_type": "code",
   "execution_count": 14,
   "id": "48a9ff68-9eaa-4df5-841b-63ca9b2af0bc",
   "metadata": {},
   "outputs": [],
   "source": [
    "from tensorflow.keras import models, layers, optimizers"
   ]
  },
  {
   "cell_type": "code",
   "execution_count": 15,
   "id": "74ed1579-9f37-4e09-97ab-4105e53c00f9",
   "metadata": {},
   "outputs": [
    {
     "name": "stderr",
     "output_type": "stream",
     "text": [
      "C:\\Users\\slywi\\anaconda3\\Lib\\site-packages\\keras\\src\\layers\\reshaping\\flatten.py:37: UserWarning: Do not pass an `input_shape`/`input_dim` argument to a layer. When using Sequential models, prefer using an `Input(shape)` object as the first layer in the model instead.\n",
      "  super().__init__(**kwargs)\n"
     ]
    }
   ],
   "source": [
    "#Build a model without Hyperparameter tuning\n",
    "\n",
    "model = models.Sequential()\n",
    "model.add(layers.Flatten(input_shape=(28, 28)))\n",
    "model.add(layers.Dense(8, activation = 'sigmoid'))\n",
    "model.add(layers.Dense(10, activation='softmax'))\n",
    "model.compile(optimizer=optimizers.Adam(), loss='categorical_crossentropy', metrics=['accuracy'])"
   ]
  },
  {
   "cell_type": "code",
   "execution_count": 16,
   "id": "d67ccd58-1f31-4d0e-8fcc-36bfb1f1624e",
   "metadata": {},
   "outputs": [
    {
     "name": "stdout",
     "output_type": "stream",
     "text": [
      "Epoch 1/20\n",
      "\u001b[1m1500/1500\u001b[0m \u001b[32m━━━━━━━━━━━━━━━━━━━━\u001b[0m\u001b[37m\u001b[0m \u001b[1m5s\u001b[0m 2ms/step - accuracy: 0.5342 - loss: 1.5918 - val_accuracy: 0.7464 - val_loss: 0.8160\n",
      "Epoch 2/20\n",
      "\u001b[1m1500/1500\u001b[0m \u001b[32m━━━━━━━━━━━━━━━━━━━━\u001b[0m\u001b[37m\u001b[0m \u001b[1m3s\u001b[0m 2ms/step - accuracy: 0.7651 - loss: 0.7510 - val_accuracy: 0.7929 - val_loss: 0.6144\n",
      "Epoch 3/20\n",
      "\u001b[1m1500/1500\u001b[0m \u001b[32m━━━━━━━━━━━━━━━━━━━━\u001b[0m\u001b[37m\u001b[0m \u001b[1m3s\u001b[0m 2ms/step - accuracy: 0.8075 - loss: 0.5820 - val_accuracy: 0.8255 - val_loss: 0.5262\n",
      "Epoch 4/20\n",
      "\u001b[1m1500/1500\u001b[0m \u001b[32m━━━━━━━━━━━━━━━━━━━━\u001b[0m\u001b[37m\u001b[0m \u001b[1m3s\u001b[0m 2ms/step - accuracy: 0.8328 - loss: 0.5052 - val_accuracy: 0.8367 - val_loss: 0.4864\n",
      "Epoch 5/20\n",
      "\u001b[1m1500/1500\u001b[0m \u001b[32m━━━━━━━━━━━━━━━━━━━━\u001b[0m\u001b[37m\u001b[0m \u001b[1m3s\u001b[0m 2ms/step - accuracy: 0.8418 - loss: 0.4739 - val_accuracy: 0.8411 - val_loss: 0.4627\n",
      "Epoch 6/20\n",
      "\u001b[1m1500/1500\u001b[0m \u001b[32m━━━━━━━━━━━━━━━━━━━━\u001b[0m\u001b[37m\u001b[0m \u001b[1m3s\u001b[0m 2ms/step - accuracy: 0.8495 - loss: 0.4418 - val_accuracy: 0.8447 - val_loss: 0.4487\n",
      "Epoch 7/20\n",
      "\u001b[1m1500/1500\u001b[0m \u001b[32m━━━━━━━━━━━━━━━━━━━━\u001b[0m\u001b[37m\u001b[0m \u001b[1m3s\u001b[0m 2ms/step - accuracy: 0.8536 - loss: 0.4322 - val_accuracy: 0.8438 - val_loss: 0.4510\n",
      "Epoch 8/20\n",
      "\u001b[1m1500/1500\u001b[0m \u001b[32m━━━━━━━━━━━━━━━━━━━━\u001b[0m\u001b[37m\u001b[0m \u001b[1m3s\u001b[0m 2ms/step - accuracy: 0.8520 - loss: 0.4268 - val_accuracy: 0.8510 - val_loss: 0.4334\n",
      "Epoch 9/20\n",
      "\u001b[1m1500/1500\u001b[0m \u001b[32m━━━━━━━━━━━━━━━━━━━━\u001b[0m\u001b[37m\u001b[0m \u001b[1m3s\u001b[0m 2ms/step - accuracy: 0.8559 - loss: 0.4191 - val_accuracy: 0.8503 - val_loss: 0.4300\n",
      "Epoch 10/20\n",
      "\u001b[1m1500/1500\u001b[0m \u001b[32m━━━━━━━━━━━━━━━━━━━━\u001b[0m\u001b[37m\u001b[0m \u001b[1m3s\u001b[0m 2ms/step - accuracy: 0.8588 - loss: 0.4056 - val_accuracy: 0.8507 - val_loss: 0.4287\n",
      "Epoch 11/20\n",
      "\u001b[1m1500/1500\u001b[0m \u001b[32m━━━━━━━━━━━━━━━━━━━━\u001b[0m\u001b[37m\u001b[0m \u001b[1m3s\u001b[0m 2ms/step - accuracy: 0.8587 - loss: 0.4025 - val_accuracy: 0.8514 - val_loss: 0.4226\n",
      "Epoch 12/20\n",
      "\u001b[1m1500/1500\u001b[0m \u001b[32m━━━━━━━━━━━━━━━━━━━━\u001b[0m\u001b[37m\u001b[0m \u001b[1m3s\u001b[0m 2ms/step - accuracy: 0.8607 - loss: 0.3971 - val_accuracy: 0.8518 - val_loss: 0.4266\n",
      "Epoch 13/20\n",
      "\u001b[1m1500/1500\u001b[0m \u001b[32m━━━━━━━━━━━━━━━━━━━━\u001b[0m\u001b[37m\u001b[0m \u001b[1m3s\u001b[0m 2ms/step - accuracy: 0.8627 - loss: 0.3928 - val_accuracy: 0.8533 - val_loss: 0.4225\n",
      "Epoch 14/20\n",
      "\u001b[1m1500/1500\u001b[0m \u001b[32m━━━━━━━━━━━━━━━━━━━━\u001b[0m\u001b[37m\u001b[0m \u001b[1m3s\u001b[0m 2ms/step - accuracy: 0.8661 - loss: 0.3819 - val_accuracy: 0.8515 - val_loss: 0.4200\n",
      "Epoch 15/20\n",
      "\u001b[1m1500/1500\u001b[0m \u001b[32m━━━━━━━━━━━━━━━━━━━━\u001b[0m\u001b[37m\u001b[0m \u001b[1m3s\u001b[0m 2ms/step - accuracy: 0.8645 - loss: 0.3853 - val_accuracy: 0.8555 - val_loss: 0.4159\n",
      "Epoch 16/20\n",
      "\u001b[1m1500/1500\u001b[0m \u001b[32m━━━━━━━━━━━━━━━━━━━━\u001b[0m\u001b[37m\u001b[0m \u001b[1m3s\u001b[0m 2ms/step - accuracy: 0.8665 - loss: 0.3807 - val_accuracy: 0.8571 - val_loss: 0.4119\n",
      "Epoch 17/20\n",
      "\u001b[1m1500/1500\u001b[0m \u001b[32m━━━━━━━━━━━━━━━━━━━━\u001b[0m\u001b[37m\u001b[0m \u001b[1m3s\u001b[0m 2ms/step - accuracy: 0.8680 - loss: 0.3749 - val_accuracy: 0.8544 - val_loss: 0.4160\n",
      "Epoch 18/20\n",
      "\u001b[1m1500/1500\u001b[0m \u001b[32m━━━━━━━━━━━━━━━━━━━━\u001b[0m\u001b[37m\u001b[0m \u001b[1m3s\u001b[0m 2ms/step - accuracy: 0.8662 - loss: 0.3796 - val_accuracy: 0.8533 - val_loss: 0.4185\n",
      "Epoch 19/20\n",
      "\u001b[1m1500/1500\u001b[0m \u001b[32m━━━━━━━━━━━━━━━━━━━━\u001b[0m\u001b[37m\u001b[0m \u001b[1m3s\u001b[0m 2ms/step - accuracy: 0.8677 - loss: 0.3755 - val_accuracy: 0.8581 - val_loss: 0.4100\n",
      "Epoch 20/20\n",
      "\u001b[1m1500/1500\u001b[0m \u001b[32m━━━━━━━━━━━━━━━━━━━━\u001b[0m\u001b[37m\u001b[0m \u001b[1m3s\u001b[0m 2ms/step - accuracy: 0.8688 - loss: 0.3743 - val_accuracy: 0.8557 - val_loss: 0.4164\n"
     ]
    }
   ],
   "source": [
    "history = model.fit(X_train_rescale, y_train_ohe, validation_split=0.2, epochs=20)"
   ]
  },
  {
   "cell_type": "code",
   "execution_count": 17,
   "id": "f9b8fb6b-ed96-4223-ad4a-10345d3b1d05",
   "metadata": {},
   "outputs": [
    {
     "name": "stdout",
     "output_type": "stream",
     "text": [
      "\u001b[1m313/313\u001b[0m \u001b[32m━━━━━━━━━━━━━━━━━━━━\u001b[0m\u001b[37m\u001b[0m \u001b[1m1s\u001b[0m 2ms/step - accuracy: 0.8447 - loss: 0.4472\n"
     ]
    }
   ],
   "source": [
    "acc = model.evaluate(X_test_rescale, y_test_ohe)[1]"
   ]
  },
  {
   "cell_type": "code",
   "execution_count": 18,
   "id": "d0314c2b-1be1-4b82-9730-1cea726ec67b",
   "metadata": {},
   "outputs": [
    {
     "name": "stdout",
     "output_type": "stream",
     "text": [
      "Accuracy without tuning:  0.8414000272750854\n"
     ]
    }
   ],
   "source": [
    "print(\"Accuracy without tuning: \", acc)"
   ]
  },
  {
   "cell_type": "code",
   "execution_count": 19,
   "id": "7a1e63ff-e6fd-48b7-8662-292cafd6d15e",
   "metadata": {},
   "outputs": [],
   "source": [
    "#Build hypermodel\n",
    "\n",
    "def hp_model(hp):\n",
    "    model = models.Sequential()\n",
    "    model.add(layers.Flatten(input_shape=(28, 28))) \n",
    "\n",
    "    hidden_nums = hp.Int('hidden_nums', min_value=1, max_value=3)\n",
    "\n",
    "    for i in range(hidden_nums):\n",
    "        units = hp.Int(f'units_{i}', 64, 512, step=64)\n",
    "        activation = hp.Choice(f'activation_{i}', ['sigmoid','relu', 'tanh'])\n",
    "        model.add(layers.Dense(units=units, activation=activation))\n",
    "        model.add(layers.BatchNormalization())\n",
    "        model.add(layers.Dropout(hp.Float(f'dropout_{i}', 0.2, 0.4, step=0.1)))\n",
    "    \n",
    "    model.add(layers.Dense(units=10, activation='softmax'))\n",
    "   \n",
    "    model.compile(\n",
    "        optimizer=optimizers.Adam(hp.Choice('lr', [1e-3, 1e-4])),\n",
    "        loss='categorical_crossentropy',\n",
    "        metrics=['accuracy'])\n",
    "    return model"
   ]
  },
  {
   "cell_type": "code",
   "execution_count": 20,
   "id": "48f7a897-8668-46eb-bad9-e1da93621dee",
   "metadata": {},
   "outputs": [],
   "source": [
    "import keras_tuner as kt\n",
    "from tensorflow.keras.callbacks import EarlyStopping"
   ]
  },
  {
   "cell_type": "code",
   "execution_count": 29,
   "id": "bb70cf93-1d29-487f-92f0-58f9ad02b462",
   "metadata": {},
   "outputs": [],
   "source": [
    "#Hyperband and Ealystopping\n",
    "\n",
    "#Hyperband tuner\n",
    "tuner =  kt.BayesianOptimization(hypermodel=hp_model, objective='val_accuracy', max_trials=30, directory='D/DPL', project_name='4')\n",
    "\n",
    "#Ealry Stopping\n",
    "stop_early = EarlyStopping(monitor='val_accuracy', patience=5, restore_best_weights=True)"
   ]
  },
  {
   "cell_type": "code",
   "execution_count": 31,
   "id": "67be4ec0-1f0b-4c60-8b5f-8baeb2c16d44",
   "metadata": {},
   "outputs": [
    {
     "name": "stdout",
     "output_type": "stream",
     "text": [
      "Trial 30 Complete [00h 00m 53s]\n",
      "val_accuracy: 0.8849999904632568\n",
      "\n",
      "Best val_accuracy So Far: 0.887499988079071\n",
      "Total elapsed time: 00h 31m 20s\n"
     ]
    }
   ],
   "source": [
    "#Start tuning\n",
    "tuner.search(X_train_rescale, y_train_ohe, validation_split=0.2, epochs=10, batch_size=64, callbacks=[stop_early])"
   ]
  },
  {
   "cell_type": "code",
   "execution_count": 33,
   "id": "363df60b-590b-46a7-9243-03a924b1edd9",
   "metadata": {},
   "outputs": [
    {
     "name": "stdout",
     "output_type": "stream",
     "text": [
      "Number of hidden layers: 2\n",
      "Layer 1: 384 neurons, activation = relu\n",
      "Layer 2: 448 neurons, activation = relu\n",
      "Learning rate: 0.0001\n"
     ]
    }
   ],
   "source": [
    "#Get best hyperparameters\n",
    "best_hps = tuner.get_best_hyperparameters(num_trials=1)[0]\n",
    "\n",
    "num_hidden_layers = best_hps.get('hidden_nums')\n",
    "print(f\"Number of hidden layers: {num_hidden_layers}\")\n",
    "\n",
    "for i in range(num_hidden_layers):\n",
    "    units = best_hps.get(f'units_{i}')\n",
    "    activation = best_hps.get(f'activation_{i}')\n",
    "    print(f\"Layer {i+1}: {units} neurons, activation = {activation}\")\n",
    "\n",
    "lr = best_hps.get('lr')\n",
    "print(f\"Learning rate: {lr}\")"
   ]
  },
  {
   "cell_type": "code",
   "execution_count": 35,
   "id": "0faceafc-33be-43c4-96ff-c5393f267b00",
   "metadata": {},
   "outputs": [],
   "source": [
    "#Build model with tuned Hyperparameters\n",
    "hyper_model = tuner.hypermodel.build(best_hps)"
   ]
  },
  {
   "cell_type": "code",
   "execution_count": 37,
   "id": "e38e6274-6064-47bb-85e6-9fbe89d7c4e6",
   "metadata": {},
   "outputs": [
    {
     "name": "stdout",
     "output_type": "stream",
     "text": [
      "Epoch 1/20\n",
      "\u001b[1m1500/1500\u001b[0m \u001b[32m━━━━━━━━━━━━━━━━━━━━\u001b[0m\u001b[37m\u001b[0m \u001b[1m13s\u001b[0m 7ms/step - accuracy: 0.7172 - loss: 0.8608 - val_accuracy: 0.8552 - val_loss: 0.4182\n",
      "Epoch 2/20\n",
      "\u001b[1m1500/1500\u001b[0m \u001b[32m━━━━━━━━━━━━━━━━━━━━\u001b[0m\u001b[37m\u001b[0m \u001b[1m10s\u001b[0m 7ms/step - accuracy: 0.8339 - loss: 0.4776 - val_accuracy: 0.8637 - val_loss: 0.3733\n",
      "Epoch 3/20\n",
      "\u001b[1m1500/1500\u001b[0m \u001b[32m━━━━━━━━━━━━━━━━━━━━\u001b[0m\u001b[37m\u001b[0m \u001b[1m10s\u001b[0m 6ms/step - accuracy: 0.8516 - loss: 0.4121 - val_accuracy: 0.8734 - val_loss: 0.3517\n",
      "Epoch 4/20\n",
      "\u001b[1m1500/1500\u001b[0m \u001b[32m━━━━━━━━━━━━━━━━━━━━\u001b[0m\u001b[37m\u001b[0m \u001b[1m10s\u001b[0m 6ms/step - accuracy: 0.8585 - loss: 0.3898 - val_accuracy: 0.8786 - val_loss: 0.3430\n",
      "Epoch 5/20\n",
      "\u001b[1m1500/1500\u001b[0m \u001b[32m━━━━━━━━━━━━━━━━━━━━\u001b[0m\u001b[37m\u001b[0m \u001b[1m10s\u001b[0m 7ms/step - accuracy: 0.8655 - loss: 0.3608 - val_accuracy: 0.8782 - val_loss: 0.3391\n",
      "Epoch 6/20\n",
      "\u001b[1m1500/1500\u001b[0m \u001b[32m━━━━━━━━━━━━━━━━━━━━\u001b[0m\u001b[37m\u001b[0m \u001b[1m10s\u001b[0m 7ms/step - accuracy: 0.8757 - loss: 0.3395 - val_accuracy: 0.8774 - val_loss: 0.3466\n",
      "Epoch 7/20\n",
      "\u001b[1m1500/1500\u001b[0m \u001b[32m━━━━━━━━━━━━━━━━━━━━\u001b[0m\u001b[37m\u001b[0m \u001b[1m10s\u001b[0m 7ms/step - accuracy: 0.8792 - loss: 0.3302 - val_accuracy: 0.8853 - val_loss: 0.3262\n",
      "Epoch 8/20\n",
      "\u001b[1m1500/1500\u001b[0m \u001b[32m━━━━━━━━━━━━━━━━━━━━\u001b[0m\u001b[37m\u001b[0m \u001b[1m10s\u001b[0m 7ms/step - accuracy: 0.8855 - loss: 0.3125 - val_accuracy: 0.8829 - val_loss: 0.3194\n",
      "Epoch 9/20\n",
      "\u001b[1m1500/1500\u001b[0m \u001b[32m━━━━━━━━━━━━━━━━━━━━\u001b[0m\u001b[37m\u001b[0m \u001b[1m10s\u001b[0m 6ms/step - accuracy: 0.8928 - loss: 0.2927 - val_accuracy: 0.8892 - val_loss: 0.3064\n",
      "Epoch 10/20\n",
      "\u001b[1m1500/1500\u001b[0m \u001b[32m━━━━━━━━━━━━━━━━━━━━\u001b[0m\u001b[37m\u001b[0m \u001b[1m10s\u001b[0m 6ms/step - accuracy: 0.8955 - loss: 0.2849 - val_accuracy: 0.8813 - val_loss: 0.3349\n",
      "Epoch 11/20\n",
      "\u001b[1m1500/1500\u001b[0m \u001b[32m━━━━━━━━━━━━━━━━━━━━\u001b[0m\u001b[37m\u001b[0m \u001b[1m10s\u001b[0m 6ms/step - accuracy: 0.8972 - loss: 0.2782 - val_accuracy: 0.8902 - val_loss: 0.3072\n",
      "Epoch 12/20\n",
      "\u001b[1m1500/1500\u001b[0m \u001b[32m━━━━━━━━━━━━━━━━━━━━\u001b[0m\u001b[37m\u001b[0m \u001b[1m10s\u001b[0m 6ms/step - accuracy: 0.8995 - loss: 0.2716 - val_accuracy: 0.8913 - val_loss: 0.3100\n",
      "Epoch 13/20\n",
      "\u001b[1m1500/1500\u001b[0m \u001b[32m━━━━━━━━━━━━━━━━━━━━\u001b[0m\u001b[37m\u001b[0m \u001b[1m10s\u001b[0m 6ms/step - accuracy: 0.9009 - loss: 0.2651 - val_accuracy: 0.8852 - val_loss: 0.3157\n",
      "Epoch 14/20\n",
      "\u001b[1m1500/1500\u001b[0m \u001b[32m━━━━━━━━━━━━━━━━━━━━\u001b[0m\u001b[37m\u001b[0m \u001b[1m10s\u001b[0m 6ms/step - accuracy: 0.9008 - loss: 0.2610 - val_accuracy: 0.8878 - val_loss: 0.3105\n",
      "Epoch 15/20\n",
      "\u001b[1m1500/1500\u001b[0m \u001b[32m━━━━━━━━━━━━━━━━━━━━\u001b[0m\u001b[37m\u001b[0m \u001b[1m10s\u001b[0m 7ms/step - accuracy: 0.9035 - loss: 0.2537 - val_accuracy: 0.8907 - val_loss: 0.3026\n",
      "Epoch 16/20\n",
      "\u001b[1m1500/1500\u001b[0m \u001b[32m━━━━━━━━━━━━━━━━━━━━\u001b[0m\u001b[37m\u001b[0m \u001b[1m10s\u001b[0m 7ms/step - accuracy: 0.9076 - loss: 0.2460 - val_accuracy: 0.8903 - val_loss: 0.3102\n",
      "Epoch 17/20\n",
      "\u001b[1m1500/1500\u001b[0m \u001b[32m━━━━━━━━━━━━━━━━━━━━\u001b[0m\u001b[37m\u001b[0m \u001b[1m10s\u001b[0m 7ms/step - accuracy: 0.9111 - loss: 0.2383 - val_accuracy: 0.8938 - val_loss: 0.3052\n",
      "Epoch 18/20\n",
      "\u001b[1m1500/1500\u001b[0m \u001b[32m━━━━━━━━━━━━━━━━━━━━\u001b[0m\u001b[37m\u001b[0m \u001b[1m10s\u001b[0m 7ms/step - accuracy: 0.9151 - loss: 0.2271 - val_accuracy: 0.8897 - val_loss: 0.3101\n",
      "Epoch 19/20\n",
      "\u001b[1m1500/1500\u001b[0m \u001b[32m━━━━━━━━━━━━━━━━━━━━\u001b[0m\u001b[37m\u001b[0m \u001b[1m10s\u001b[0m 7ms/step - accuracy: 0.9146 - loss: 0.2294 - val_accuracy: 0.8939 - val_loss: 0.3057\n",
      "Epoch 20/20\n",
      "\u001b[1m1500/1500\u001b[0m \u001b[32m━━━━━━━━━━━━━━━━━━━━\u001b[0m\u001b[37m\u001b[0m \u001b[1m10s\u001b[0m 7ms/step - accuracy: 0.9151 - loss: 0.2239 - val_accuracy: 0.8967 - val_loss: 0.2965\n"
     ]
    }
   ],
   "source": [
    "hyper_model_fit = hyper_model.fit(x=X_train_rescale, y=y_train_ohe, epochs=20, validation_split=0.2, callbacks=[stop_early])"
   ]
  },
  {
   "cell_type": "code",
   "execution_count": 39,
   "id": "71674054-736e-4242-96d1-bc8a2b125d7c",
   "metadata": {},
   "outputs": [
    {
     "name": "stdout",
     "output_type": "stream",
     "text": [
      "\u001b[1m313/313\u001b[0m \u001b[32m━━━━━━━━━━━━━━━━━━━━\u001b[0m\u001b[37m\u001b[0m \u001b[1m1s\u001b[0m 3ms/step - accuracy: 0.8885 - loss: 0.3204\n"
     ]
    }
   ],
   "source": [
    "#Accuracy after Hyperparameter tuning\n",
    "eva = hyper_model.evaluate(x=X_test_rescale, y=y_test_ohe)[1]"
   ]
  },
  {
   "cell_type": "code",
   "execution_count": 41,
   "id": "660f65cf-3fa7-4add-a834-b1b2b0d3c472",
   "metadata": {},
   "outputs": [
    {
     "name": "stdout",
     "output_type": "stream",
     "text": [
      "Accuracy after tuning:  0.8910999894142151\n"
     ]
    }
   ],
   "source": [
    "print(\"Accuracy after tuning: \", eva)"
   ]
  }
 ],
 "metadata": {
  "kernelspec": {
   "display_name": "Python 3 (ipykernel)",
   "language": "python",
   "name": "python3"
  },
  "language_info": {
   "codemirror_mode": {
    "name": "ipython",
    "version": 3
   },
   "file_extension": ".py",
   "mimetype": "text/x-python",
   "name": "python",
   "nbconvert_exporter": "python",
   "pygments_lexer": "ipython3",
   "version": "3.12.4"
  }
 },
 "nbformat": 4,
 "nbformat_minor": 5
}
